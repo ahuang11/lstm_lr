{
 "cells": [
  {
   "cell_type": "code",
   "execution_count": null,
   "metadata": {},
   "outputs": [],
   "source": [
    "import pandas as pd\n",
    "import xarray as xr\n",
    "import numpy as np\n",
    "import glob\n",
    "import os\n",
    "from ahh import pre, vis\n",
    "%matplotlib inline"
   ]
  },
  {
   "cell_type": "code",
   "execution_count": null,
   "metadata": {},
   "outputs": [],
   "source": [
    "# warm water volume\n",
    "df = pd.read_csv('data/csv/wwv_m3.csv')\n",
    "df.index = pd.to_datetime(df['monthyear'], format='%Y%m')\n",
    "df = df.drop('monthyear', axis=1)\n",
    "da = pre.make_xr(df.wwv_m3.values, time=df.index.values)\n",
    "da = da.groupby('time.month') - da.sel(time=slice('1981-01-01', '2010-12-31')).groupby('time.month').mean()\n",
    "da = da.sel(time=slice('1982-01-01', '2017-12-31'))\n",
    "da.name = 'wwv'\n",
    "df = da.to_dataframe()\n",
    "df = df.drop('month', axis=1)\n",
    "df.index = pd.DatetimeIndex(da['time'].values)\n",
    "df.index.name = 'time'\n",
    "df.to_pickle('data/pkl/wwv_m3.pkl')"
   ]
  },
  {
   "cell_type": "code",
   "execution_count": null,
   "metadata": {},
   "outputs": [],
   "source": [
    "ds = xr.open_dataset('data/nc/inino34_daily.nc').sel(time=slice('1982-01-01', '2017-12-31'))\n",
    "ds = ds.dropna('time')\n",
    "df = ds.to_dataframe()\n",
    "df.columns = ['sst']\n",
    "df.index = pd.DatetimeIndex(ds.time.values)\n",
    "df.index.name = 'time'\n",
    "df.to_pickle('data/pkl/sst_k.pkl')"
   ]
  },
  {
   "cell_type": "code",
   "execution_count": null,
   "metadata": {},
   "outputs": [],
   "source": [
    "ds_list = []\n",
    "nc_files = sorted(glob.glob('data/nc/uwnd.*.nc'))\n",
    "\n",
    "for nc in nc_files:\n",
    "    try:\n",
    "        ds = xr.open_dataset(nc)\n",
    "        ds = ds.sel(level=925, lat=slice(5, -5), lon=slice(120, 160))\n",
    "        ds_list.append(ds)\n",
    "    except:\n",
    "        pass\n",
    "\n",
    "ds_all = xr.concat(ds_list, 'time')\n",
    "\n",
    "wnd_ds = ds_all\n",
    "\n",
    "wnd_ds_avg = wnd_ds.mean('lat').mean('lon')\n",
    "\n",
    "wnd_ds_anom = wnd_ds_avg.groupby('time.month') - \\\n",
    "               wnd_ds_avg.sel(time=slice('1982-01-01', '2010-12-31')).groupby('time.month').mean()\n",
    "\n",
    "df = wnd_ds_anom['uwnd'].to_dataframe()\n",
    "df = df.drop('month', axis=1)\n",
    "df.to_pickle('data/pkl/wnd_ms.pkl')"
   ]
  }
 ],
 "metadata": {
  "kernelspec": {
   "display_name": "Python 3",
   "language": "python",
   "name": "python3"
  },
  "language_info": {
   "codemirror_mode": {
    "name": "ipython",
    "version": 3
   },
   "file_extension": ".py",
   "mimetype": "text/x-python",
   "name": "python",
   "nbconvert_exporter": "python",
   "pygments_lexer": "ipython3",
   "version": "3.6.4"
  }
 },
 "nbformat": 4,
 "nbformat_minor": 2
}
